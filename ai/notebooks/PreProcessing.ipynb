{
 "cells": [
  {
   "cell_type": "code",
   "execution_count": 1,
   "metadata": {},
   "outputs": [],
   "source": [
    "import os\n",
    "os.chdir(r\"/home/yousinator/AuspicesAI/ScytheEx/ai\")\n",
    "\n",
    "from internal_lib import DataSetInformation, MachineLearning\n",
    "import pandas as pd"
   ]
  },
  {
   "cell_type": "code",
   "execution_count": 11,
   "metadata": {},
   "outputs": [],
   "source": [
    "train = pd.read_csv(\"data/training.csv\")\n",
    "test = pd.read_csv(\"data/testing.csv\")\n",
    "\n",
    "train_info = DataSetInformation(train)\n",
    "test_info = DataSetInformation(test)\n",
    "\n",
    "train.drop_duplicates(inplace=True)\n",
    "test.drop_duplicates(inplace=True)"
   ]
  },
  {
   "cell_type": "code",
   "execution_count": 12,
   "metadata": {},
   "outputs": [
    {
     "data": {
      "text/markdown": [
       "### Shape:"
      ],
      "text/plain": [
       "<IPython.core.display.Markdown object>"
      ]
     },
     "metadata": {},
     "output_type": "display_data"
    },
    {
     "data": {
      "text/plain": [
       "(96822, 36)"
      ]
     },
     "metadata": {},
     "output_type": "display_data"
    },
    {
     "data": {
      "text/markdown": [
       "### Columns and Metadata:"
      ],
      "text/plain": [
       "<IPython.core.display.Markdown object>"
      ]
     },
     "metadata": {},
     "output_type": "display_data"
    },
    {
     "data": {
      "text/html": [
       "<style type=\"text/css\">\n",
       "#T_5dc2f th {\n",
       "  text-align: left;\n",
       "}\n",
       "#T_5dc2f_row0_col0, #T_5dc2f_row0_col1, #T_5dc2f_row0_col2, #T_5dc2f_row1_col0, #T_5dc2f_row1_col1, #T_5dc2f_row1_col2, #T_5dc2f_row2_col0, #T_5dc2f_row2_col1, #T_5dc2f_row2_col2, #T_5dc2f_row3_col0, #T_5dc2f_row3_col1, #T_5dc2f_row3_col2, #T_5dc2f_row4_col0, #T_5dc2f_row4_col1, #T_5dc2f_row4_col2, #T_5dc2f_row5_col0, #T_5dc2f_row5_col1, #T_5dc2f_row5_col2, #T_5dc2f_row6_col0, #T_5dc2f_row6_col1, #T_5dc2f_row6_col2, #T_5dc2f_row7_col0, #T_5dc2f_row7_col1, #T_5dc2f_row7_col2, #T_5dc2f_row8_col0, #T_5dc2f_row8_col1, #T_5dc2f_row8_col2, #T_5dc2f_row9_col0, #T_5dc2f_row9_col1, #T_5dc2f_row9_col2, #T_5dc2f_row10_col0, #T_5dc2f_row10_col1, #T_5dc2f_row10_col2, #T_5dc2f_row11_col0, #T_5dc2f_row11_col1, #T_5dc2f_row11_col2, #T_5dc2f_row12_col0, #T_5dc2f_row12_col1, #T_5dc2f_row12_col2, #T_5dc2f_row13_col0, #T_5dc2f_row13_col1, #T_5dc2f_row13_col2, #T_5dc2f_row14_col0, #T_5dc2f_row14_col1, #T_5dc2f_row14_col2, #T_5dc2f_row15_col0, #T_5dc2f_row15_col1, #T_5dc2f_row15_col2, #T_5dc2f_row16_col0, #T_5dc2f_row16_col1, #T_5dc2f_row16_col2, #T_5dc2f_row17_col0, #T_5dc2f_row17_col1, #T_5dc2f_row17_col2, #T_5dc2f_row18_col0, #T_5dc2f_row18_col1, #T_5dc2f_row18_col2, #T_5dc2f_row19_col0, #T_5dc2f_row19_col1, #T_5dc2f_row19_col2, #T_5dc2f_row20_col0, #T_5dc2f_row20_col1, #T_5dc2f_row20_col2, #T_5dc2f_row21_col0, #T_5dc2f_row21_col1, #T_5dc2f_row21_col2, #T_5dc2f_row22_col0, #T_5dc2f_row22_col1, #T_5dc2f_row22_col2, #T_5dc2f_row23_col0, #T_5dc2f_row23_col1, #T_5dc2f_row23_col2, #T_5dc2f_row24_col0, #T_5dc2f_row24_col1, #T_5dc2f_row24_col2, #T_5dc2f_row25_col0, #T_5dc2f_row25_col1, #T_5dc2f_row25_col2, #T_5dc2f_row26_col0, #T_5dc2f_row26_col1, #T_5dc2f_row26_col2, #T_5dc2f_row27_col0, #T_5dc2f_row27_col1, #T_5dc2f_row27_col2, #T_5dc2f_row28_col0, #T_5dc2f_row28_col1, #T_5dc2f_row28_col2, #T_5dc2f_row29_col0, #T_5dc2f_row29_col1, #T_5dc2f_row29_col2, #T_5dc2f_row30_col0, #T_5dc2f_row30_col1, #T_5dc2f_row30_col2, #T_5dc2f_row31_col0, #T_5dc2f_row31_col1, #T_5dc2f_row31_col2, #T_5dc2f_row32_col0, #T_5dc2f_row32_col1, #T_5dc2f_row32_col2, #T_5dc2f_row33_col0, #T_5dc2f_row33_col1, #T_5dc2f_row33_col2, #T_5dc2f_row34_col0, #T_5dc2f_row34_col1, #T_5dc2f_row34_col2, #T_5dc2f_row35_col0, #T_5dc2f_row35_col1, #T_5dc2f_row35_col2 {\n",
       "  text-align: left;\n",
       "}\n",
       "</style>\n",
       "<table id=\"T_5dc2f\">\n",
       "  <thead>\n",
       "    <tr>\n",
       "      <th class=\"blank level0\" >&nbsp;</th>\n",
       "      <th id=\"T_5dc2f_level0_col0\" class=\"col_heading level0 col0\" >Data Type</th>\n",
       "      <th id=\"T_5dc2f_level0_col1\" class=\"col_heading level0 col1\" >Null Values</th>\n",
       "      <th id=\"T_5dc2f_level0_col2\" class=\"col_heading level0 col2\" >Precentage of Nulls</th>\n",
       "    </tr>\n",
       "  </thead>\n",
       "  <tbody>\n",
       "    <tr>\n",
       "      <th id=\"T_5dc2f_level0_row0\" class=\"row_heading level0 row0\" >dur</th>\n",
       "      <td id=\"T_5dc2f_row0_col0\" class=\"data row0 col0\" >float64</td>\n",
       "      <td id=\"T_5dc2f_row0_col1\" class=\"data row0 col1\" >0</td>\n",
       "      <td id=\"T_5dc2f_row0_col2\" class=\"data row0 col2\" >0.0</td>\n",
       "    </tr>\n",
       "    <tr>\n",
       "      <th id=\"T_5dc2f_level0_row1\" class=\"row_heading level0 row1\" >proto</th>\n",
       "      <td id=\"T_5dc2f_row1_col0\" class=\"data row1 col0\" >object</td>\n",
       "      <td id=\"T_5dc2f_row1_col1\" class=\"data row1 col1\" >0</td>\n",
       "      <td id=\"T_5dc2f_row1_col2\" class=\"data row1 col2\" >0.0</td>\n",
       "    </tr>\n",
       "    <tr>\n",
       "      <th id=\"T_5dc2f_level0_row2\" class=\"row_heading level0 row2\" >service</th>\n",
       "      <td id=\"T_5dc2f_row2_col0\" class=\"data row2 col0\" >object</td>\n",
       "      <td id=\"T_5dc2f_row2_col1\" class=\"data row2 col1\" >0</td>\n",
       "      <td id=\"T_5dc2f_row2_col2\" class=\"data row2 col2\" >0.0</td>\n",
       "    </tr>\n",
       "    <tr>\n",
       "      <th id=\"T_5dc2f_level0_row3\" class=\"row_heading level0 row3\" >state</th>\n",
       "      <td id=\"T_5dc2f_row3_col0\" class=\"data row3 col0\" >object</td>\n",
       "      <td id=\"T_5dc2f_row3_col1\" class=\"data row3 col1\" >0</td>\n",
       "      <td id=\"T_5dc2f_row3_col2\" class=\"data row3 col2\" >0.0</td>\n",
       "    </tr>\n",
       "    <tr>\n",
       "      <th id=\"T_5dc2f_level0_row4\" class=\"row_heading level0 row4\" >spkts</th>\n",
       "      <td id=\"T_5dc2f_row4_col0\" class=\"data row4 col0\" >int64</td>\n",
       "      <td id=\"T_5dc2f_row4_col1\" class=\"data row4 col1\" >0</td>\n",
       "      <td id=\"T_5dc2f_row4_col2\" class=\"data row4 col2\" >0.0</td>\n",
       "    </tr>\n",
       "    <tr>\n",
       "      <th id=\"T_5dc2f_level0_row5\" class=\"row_heading level0 row5\" >dpkts</th>\n",
       "      <td id=\"T_5dc2f_row5_col0\" class=\"data row5 col0\" >int64</td>\n",
       "      <td id=\"T_5dc2f_row5_col1\" class=\"data row5 col1\" >0</td>\n",
       "      <td id=\"T_5dc2f_row5_col2\" class=\"data row5 col2\" >0.0</td>\n",
       "    </tr>\n",
       "    <tr>\n",
       "      <th id=\"T_5dc2f_level0_row6\" class=\"row_heading level0 row6\" >sbytes</th>\n",
       "      <td id=\"T_5dc2f_row6_col0\" class=\"data row6 col0\" >int64</td>\n",
       "      <td id=\"T_5dc2f_row6_col1\" class=\"data row6 col1\" >0</td>\n",
       "      <td id=\"T_5dc2f_row6_col2\" class=\"data row6 col2\" >0.0</td>\n",
       "    </tr>\n",
       "    <tr>\n",
       "      <th id=\"T_5dc2f_level0_row7\" class=\"row_heading level0 row7\" >dbytes</th>\n",
       "      <td id=\"T_5dc2f_row7_col0\" class=\"data row7 col0\" >int64</td>\n",
       "      <td id=\"T_5dc2f_row7_col1\" class=\"data row7 col1\" >0</td>\n",
       "      <td id=\"T_5dc2f_row7_col2\" class=\"data row7 col2\" >0.0</td>\n",
       "    </tr>\n",
       "    <tr>\n",
       "      <th id=\"T_5dc2f_level0_row8\" class=\"row_heading level0 row8\" >rate</th>\n",
       "      <td id=\"T_5dc2f_row8_col0\" class=\"data row8 col0\" >float64</td>\n",
       "      <td id=\"T_5dc2f_row8_col1\" class=\"data row8 col1\" >0</td>\n",
       "      <td id=\"T_5dc2f_row8_col2\" class=\"data row8 col2\" >0.0</td>\n",
       "    </tr>\n",
       "    <tr>\n",
       "      <th id=\"T_5dc2f_level0_row9\" class=\"row_heading level0 row9\" >sload</th>\n",
       "      <td id=\"T_5dc2f_row9_col0\" class=\"data row9 col0\" >float64</td>\n",
       "      <td id=\"T_5dc2f_row9_col1\" class=\"data row9 col1\" >0</td>\n",
       "      <td id=\"T_5dc2f_row9_col2\" class=\"data row9 col2\" >0.0</td>\n",
       "    </tr>\n",
       "    <tr>\n",
       "      <th id=\"T_5dc2f_level0_row10\" class=\"row_heading level0 row10\" >dload</th>\n",
       "      <td id=\"T_5dc2f_row10_col0\" class=\"data row10 col0\" >float64</td>\n",
       "      <td id=\"T_5dc2f_row10_col1\" class=\"data row10 col1\" >0</td>\n",
       "      <td id=\"T_5dc2f_row10_col2\" class=\"data row10 col2\" >0.0</td>\n",
       "    </tr>\n",
       "    <tr>\n",
       "      <th id=\"T_5dc2f_level0_row11\" class=\"row_heading level0 row11\" >sloss</th>\n",
       "      <td id=\"T_5dc2f_row11_col0\" class=\"data row11 col0\" >int64</td>\n",
       "      <td id=\"T_5dc2f_row11_col1\" class=\"data row11 col1\" >0</td>\n",
       "      <td id=\"T_5dc2f_row11_col2\" class=\"data row11 col2\" >0.0</td>\n",
       "    </tr>\n",
       "    <tr>\n",
       "      <th id=\"T_5dc2f_level0_row12\" class=\"row_heading level0 row12\" >dloss</th>\n",
       "      <td id=\"T_5dc2f_row12_col0\" class=\"data row12 col0\" >int64</td>\n",
       "      <td id=\"T_5dc2f_row12_col1\" class=\"data row12 col1\" >0</td>\n",
       "      <td id=\"T_5dc2f_row12_col2\" class=\"data row12 col2\" >0.0</td>\n",
       "    </tr>\n",
       "    <tr>\n",
       "      <th id=\"T_5dc2f_level0_row13\" class=\"row_heading level0 row13\" >sinpkt</th>\n",
       "      <td id=\"T_5dc2f_row13_col0\" class=\"data row13 col0\" >float64</td>\n",
       "      <td id=\"T_5dc2f_row13_col1\" class=\"data row13 col1\" >0</td>\n",
       "      <td id=\"T_5dc2f_row13_col2\" class=\"data row13 col2\" >0.0</td>\n",
       "    </tr>\n",
       "    <tr>\n",
       "      <th id=\"T_5dc2f_level0_row14\" class=\"row_heading level0 row14\" >dinpkt</th>\n",
       "      <td id=\"T_5dc2f_row14_col0\" class=\"data row14 col0\" >float64</td>\n",
       "      <td id=\"T_5dc2f_row14_col1\" class=\"data row14 col1\" >0</td>\n",
       "      <td id=\"T_5dc2f_row14_col2\" class=\"data row14 col2\" >0.0</td>\n",
       "    </tr>\n",
       "    <tr>\n",
       "      <th id=\"T_5dc2f_level0_row15\" class=\"row_heading level0 row15\" >sjit</th>\n",
       "      <td id=\"T_5dc2f_row15_col0\" class=\"data row15 col0\" >float64</td>\n",
       "      <td id=\"T_5dc2f_row15_col1\" class=\"data row15 col1\" >0</td>\n",
       "      <td id=\"T_5dc2f_row15_col2\" class=\"data row15 col2\" >0.0</td>\n",
       "    </tr>\n",
       "    <tr>\n",
       "      <th id=\"T_5dc2f_level0_row16\" class=\"row_heading level0 row16\" >djit</th>\n",
       "      <td id=\"T_5dc2f_row16_col0\" class=\"data row16 col0\" >float64</td>\n",
       "      <td id=\"T_5dc2f_row16_col1\" class=\"data row16 col1\" >0</td>\n",
       "      <td id=\"T_5dc2f_row16_col2\" class=\"data row16 col2\" >0.0</td>\n",
       "    </tr>\n",
       "    <tr>\n",
       "      <th id=\"T_5dc2f_level0_row17\" class=\"row_heading level0 row17\" >swin</th>\n",
       "      <td id=\"T_5dc2f_row17_col0\" class=\"data row17 col0\" >int64</td>\n",
       "      <td id=\"T_5dc2f_row17_col1\" class=\"data row17 col1\" >0</td>\n",
       "      <td id=\"T_5dc2f_row17_col2\" class=\"data row17 col2\" >0.0</td>\n",
       "    </tr>\n",
       "    <tr>\n",
       "      <th id=\"T_5dc2f_level0_row18\" class=\"row_heading level0 row18\" >stcpb</th>\n",
       "      <td id=\"T_5dc2f_row18_col0\" class=\"data row18 col0\" >int64</td>\n",
       "      <td id=\"T_5dc2f_row18_col1\" class=\"data row18 col1\" >0</td>\n",
       "      <td id=\"T_5dc2f_row18_col2\" class=\"data row18 col2\" >0.0</td>\n",
       "    </tr>\n",
       "    <tr>\n",
       "      <th id=\"T_5dc2f_level0_row19\" class=\"row_heading level0 row19\" >dtcpb</th>\n",
       "      <td id=\"T_5dc2f_row19_col0\" class=\"data row19 col0\" >int64</td>\n",
       "      <td id=\"T_5dc2f_row19_col1\" class=\"data row19 col1\" >0</td>\n",
       "      <td id=\"T_5dc2f_row19_col2\" class=\"data row19 col2\" >0.0</td>\n",
       "    </tr>\n",
       "    <tr>\n",
       "      <th id=\"T_5dc2f_level0_row20\" class=\"row_heading level0 row20\" >dwin</th>\n",
       "      <td id=\"T_5dc2f_row20_col0\" class=\"data row20 col0\" >int64</td>\n",
       "      <td id=\"T_5dc2f_row20_col1\" class=\"data row20 col1\" >0</td>\n",
       "      <td id=\"T_5dc2f_row20_col2\" class=\"data row20 col2\" >0.0</td>\n",
       "    </tr>\n",
       "    <tr>\n",
       "      <th id=\"T_5dc2f_level0_row21\" class=\"row_heading level0 row21\" >tcprtt</th>\n",
       "      <td id=\"T_5dc2f_row21_col0\" class=\"data row21 col0\" >float64</td>\n",
       "      <td id=\"T_5dc2f_row21_col1\" class=\"data row21 col1\" >0</td>\n",
       "      <td id=\"T_5dc2f_row21_col2\" class=\"data row21 col2\" >0.0</td>\n",
       "    </tr>\n",
       "    <tr>\n",
       "      <th id=\"T_5dc2f_level0_row22\" class=\"row_heading level0 row22\" >synack</th>\n",
       "      <td id=\"T_5dc2f_row22_col0\" class=\"data row22 col0\" >float64</td>\n",
       "      <td id=\"T_5dc2f_row22_col1\" class=\"data row22 col1\" >0</td>\n",
       "      <td id=\"T_5dc2f_row22_col2\" class=\"data row22 col2\" >0.0</td>\n",
       "    </tr>\n",
       "    <tr>\n",
       "      <th id=\"T_5dc2f_level0_row23\" class=\"row_heading level0 row23\" >ackdat</th>\n",
       "      <td id=\"T_5dc2f_row23_col0\" class=\"data row23 col0\" >float64</td>\n",
       "      <td id=\"T_5dc2f_row23_col1\" class=\"data row23 col1\" >0</td>\n",
       "      <td id=\"T_5dc2f_row23_col2\" class=\"data row23 col2\" >0.0</td>\n",
       "    </tr>\n",
       "    <tr>\n",
       "      <th id=\"T_5dc2f_level0_row24\" class=\"row_heading level0 row24\" >smean</th>\n",
       "      <td id=\"T_5dc2f_row24_col0\" class=\"data row24 col0\" >int64</td>\n",
       "      <td id=\"T_5dc2f_row24_col1\" class=\"data row24 col1\" >0</td>\n",
       "      <td id=\"T_5dc2f_row24_col2\" class=\"data row24 col2\" >0.0</td>\n",
       "    </tr>\n",
       "    <tr>\n",
       "      <th id=\"T_5dc2f_level0_row25\" class=\"row_heading level0 row25\" >dmean</th>\n",
       "      <td id=\"T_5dc2f_row25_col0\" class=\"data row25 col0\" >int64</td>\n",
       "      <td id=\"T_5dc2f_row25_col1\" class=\"data row25 col1\" >0</td>\n",
       "      <td id=\"T_5dc2f_row25_col2\" class=\"data row25 col2\" >0.0</td>\n",
       "    </tr>\n",
       "    <tr>\n",
       "      <th id=\"T_5dc2f_level0_row26\" class=\"row_heading level0 row26\" >trans_depth</th>\n",
       "      <td id=\"T_5dc2f_row26_col0\" class=\"data row26 col0\" >int64</td>\n",
       "      <td id=\"T_5dc2f_row26_col1\" class=\"data row26 col1\" >0</td>\n",
       "      <td id=\"T_5dc2f_row26_col2\" class=\"data row26 col2\" >0.0</td>\n",
       "    </tr>\n",
       "    <tr>\n",
       "      <th id=\"T_5dc2f_level0_row27\" class=\"row_heading level0 row27\" >response_body_len</th>\n",
       "      <td id=\"T_5dc2f_row27_col0\" class=\"data row27 col0\" >int64</td>\n",
       "      <td id=\"T_5dc2f_row27_col1\" class=\"data row27 col1\" >0</td>\n",
       "      <td id=\"T_5dc2f_row27_col2\" class=\"data row27 col2\" >0.0</td>\n",
       "    </tr>\n",
       "    <tr>\n",
       "      <th id=\"T_5dc2f_level0_row28\" class=\"row_heading level0 row28\" >ct_src_dport_ltm</th>\n",
       "      <td id=\"T_5dc2f_row28_col0\" class=\"data row28 col0\" >int64</td>\n",
       "      <td id=\"T_5dc2f_row28_col1\" class=\"data row28 col1\" >0</td>\n",
       "      <td id=\"T_5dc2f_row28_col2\" class=\"data row28 col2\" >0.0</td>\n",
       "    </tr>\n",
       "    <tr>\n",
       "      <th id=\"T_5dc2f_level0_row29\" class=\"row_heading level0 row29\" >ct_dst_sport_ltm</th>\n",
       "      <td id=\"T_5dc2f_row29_col0\" class=\"data row29 col0\" >int64</td>\n",
       "      <td id=\"T_5dc2f_row29_col1\" class=\"data row29 col1\" >0</td>\n",
       "      <td id=\"T_5dc2f_row29_col2\" class=\"data row29 col2\" >0.0</td>\n",
       "    </tr>\n",
       "    <tr>\n",
       "      <th id=\"T_5dc2f_level0_row30\" class=\"row_heading level0 row30\" >is_ftp_login</th>\n",
       "      <td id=\"T_5dc2f_row30_col0\" class=\"data row30 col0\" >int64</td>\n",
       "      <td id=\"T_5dc2f_row30_col1\" class=\"data row30 col1\" >0</td>\n",
       "      <td id=\"T_5dc2f_row30_col2\" class=\"data row30 col2\" >0.0</td>\n",
       "    </tr>\n",
       "    <tr>\n",
       "      <th id=\"T_5dc2f_level0_row31\" class=\"row_heading level0 row31\" >ct_ftp_cmd</th>\n",
       "      <td id=\"T_5dc2f_row31_col0\" class=\"data row31 col0\" >int64</td>\n",
       "      <td id=\"T_5dc2f_row31_col1\" class=\"data row31 col1\" >0</td>\n",
       "      <td id=\"T_5dc2f_row31_col2\" class=\"data row31 col2\" >0.0</td>\n",
       "    </tr>\n",
       "    <tr>\n",
       "      <th id=\"T_5dc2f_level0_row32\" class=\"row_heading level0 row32\" >ct_flw_http_mthd</th>\n",
       "      <td id=\"T_5dc2f_row32_col0\" class=\"data row32 col0\" >int64</td>\n",
       "      <td id=\"T_5dc2f_row32_col1\" class=\"data row32 col1\" >0</td>\n",
       "      <td id=\"T_5dc2f_row32_col2\" class=\"data row32 col2\" >0.0</td>\n",
       "    </tr>\n",
       "    <tr>\n",
       "      <th id=\"T_5dc2f_level0_row33\" class=\"row_heading level0 row33\" >is_sm_ips_ports</th>\n",
       "      <td id=\"T_5dc2f_row33_col0\" class=\"data row33 col0\" >int64</td>\n",
       "      <td id=\"T_5dc2f_row33_col1\" class=\"data row33 col1\" >0</td>\n",
       "      <td id=\"T_5dc2f_row33_col2\" class=\"data row33 col2\" >0.0</td>\n",
       "    </tr>\n",
       "    <tr>\n",
       "      <th id=\"T_5dc2f_level0_row34\" class=\"row_heading level0 row34\" >attack_cat</th>\n",
       "      <td id=\"T_5dc2f_row34_col0\" class=\"data row34 col0\" >object</td>\n",
       "      <td id=\"T_5dc2f_row34_col1\" class=\"data row34 col1\" >0</td>\n",
       "      <td id=\"T_5dc2f_row34_col2\" class=\"data row34 col2\" >0.0</td>\n",
       "    </tr>\n",
       "    <tr>\n",
       "      <th id=\"T_5dc2f_level0_row35\" class=\"row_heading level0 row35\" >label</th>\n",
       "      <td id=\"T_5dc2f_row35_col0\" class=\"data row35 col0\" >int64</td>\n",
       "      <td id=\"T_5dc2f_row35_col1\" class=\"data row35 col1\" >0</td>\n",
       "      <td id=\"T_5dc2f_row35_col2\" class=\"data row35 col2\" >0.0</td>\n",
       "    </tr>\n",
       "  </tbody>\n",
       "</table>\n"
      ],
      "text/plain": [
       "<pandas.io.formats.style.Styler at 0x7f052cbb77c0>"
      ]
     },
     "metadata": {},
     "output_type": "display_data"
    },
    {
     "data": {
      "text/markdown": [
       "### Duplicated Rows:"
      ],
      "text/plain": [
       "<IPython.core.display.Markdown object>"
      ]
     },
     "metadata": {},
     "output_type": "display_data"
    },
    {
     "data": {
      "text/html": [
       "<div>\n",
       "<style scoped>\n",
       "    .dataframe tbody tr th:only-of-type {\n",
       "        vertical-align: middle;\n",
       "    }\n",
       "\n",
       "    .dataframe tbody tr th {\n",
       "        vertical-align: top;\n",
       "    }\n",
       "\n",
       "    .dataframe thead th {\n",
       "        text-align: right;\n",
       "    }\n",
       "</style>\n",
       "<table border=\"1\" class=\"dataframe\">\n",
       "  <thead>\n",
       "    <tr style=\"text-align: right;\">\n",
       "      <th></th>\n",
       "      <th>Duplicated Rows Count</th>\n",
       "    </tr>\n",
       "  </thead>\n",
       "  <tbody>\n",
       "    <tr>\n",
       "      <th>Total</th>\n",
       "      <td>0</td>\n",
       "    </tr>\n",
       "  </tbody>\n",
       "</table>\n",
       "</div>"
      ],
      "text/plain": [
       "       Duplicated Rows Count\n",
       "Total                      0"
      ]
     },
     "metadata": {},
     "output_type": "display_data"
    }
   ],
   "source": [
    "train_info.dataframe_summary()"
   ]
  },
  {
   "cell_type": "code",
   "execution_count": 13,
   "metadata": {},
   "outputs": [
    {
     "data": {
      "text/markdown": [
       "### Shape:"
      ],
      "text/plain": [
       "<IPython.core.display.Markdown object>"
      ]
     },
     "metadata": {},
     "output_type": "display_data"
    },
    {
     "data": {
      "text/plain": [
       "(49971, 36)"
      ]
     },
     "metadata": {},
     "output_type": "display_data"
    },
    {
     "data": {
      "text/markdown": [
       "### Columns and Metadata:"
      ],
      "text/plain": [
       "<IPython.core.display.Markdown object>"
      ]
     },
     "metadata": {},
     "output_type": "display_data"
    },
    {
     "data": {
      "text/html": [
       "<style type=\"text/css\">\n",
       "#T_f419c th {\n",
       "  text-align: left;\n",
       "}\n",
       "#T_f419c_row0_col0, #T_f419c_row0_col1, #T_f419c_row0_col2, #T_f419c_row1_col0, #T_f419c_row1_col1, #T_f419c_row1_col2, #T_f419c_row2_col0, #T_f419c_row2_col1, #T_f419c_row2_col2, #T_f419c_row3_col0, #T_f419c_row3_col1, #T_f419c_row3_col2, #T_f419c_row4_col0, #T_f419c_row4_col1, #T_f419c_row4_col2, #T_f419c_row5_col0, #T_f419c_row5_col1, #T_f419c_row5_col2, #T_f419c_row6_col0, #T_f419c_row6_col1, #T_f419c_row6_col2, #T_f419c_row7_col0, #T_f419c_row7_col1, #T_f419c_row7_col2, #T_f419c_row8_col0, #T_f419c_row8_col1, #T_f419c_row8_col2, #T_f419c_row9_col0, #T_f419c_row9_col1, #T_f419c_row9_col2, #T_f419c_row10_col0, #T_f419c_row10_col1, #T_f419c_row10_col2, #T_f419c_row11_col0, #T_f419c_row11_col1, #T_f419c_row11_col2, #T_f419c_row12_col0, #T_f419c_row12_col1, #T_f419c_row12_col2, #T_f419c_row13_col0, #T_f419c_row13_col1, #T_f419c_row13_col2, #T_f419c_row14_col0, #T_f419c_row14_col1, #T_f419c_row14_col2, #T_f419c_row15_col0, #T_f419c_row15_col1, #T_f419c_row15_col2, #T_f419c_row16_col0, #T_f419c_row16_col1, #T_f419c_row16_col2, #T_f419c_row17_col0, #T_f419c_row17_col1, #T_f419c_row17_col2, #T_f419c_row18_col0, #T_f419c_row18_col1, #T_f419c_row18_col2, #T_f419c_row19_col0, #T_f419c_row19_col1, #T_f419c_row19_col2, #T_f419c_row20_col0, #T_f419c_row20_col1, #T_f419c_row20_col2, #T_f419c_row21_col0, #T_f419c_row21_col1, #T_f419c_row21_col2, #T_f419c_row22_col0, #T_f419c_row22_col1, #T_f419c_row22_col2, #T_f419c_row23_col0, #T_f419c_row23_col1, #T_f419c_row23_col2, #T_f419c_row24_col0, #T_f419c_row24_col1, #T_f419c_row24_col2, #T_f419c_row25_col0, #T_f419c_row25_col1, #T_f419c_row25_col2, #T_f419c_row26_col0, #T_f419c_row26_col1, #T_f419c_row26_col2, #T_f419c_row27_col0, #T_f419c_row27_col1, #T_f419c_row27_col2, #T_f419c_row28_col0, #T_f419c_row28_col1, #T_f419c_row28_col2, #T_f419c_row29_col0, #T_f419c_row29_col1, #T_f419c_row29_col2, #T_f419c_row30_col0, #T_f419c_row30_col1, #T_f419c_row30_col2, #T_f419c_row31_col0, #T_f419c_row31_col1, #T_f419c_row31_col2, #T_f419c_row32_col0, #T_f419c_row32_col1, #T_f419c_row32_col2, #T_f419c_row33_col0, #T_f419c_row33_col1, #T_f419c_row33_col2, #T_f419c_row34_col0, #T_f419c_row34_col1, #T_f419c_row34_col2, #T_f419c_row35_col0, #T_f419c_row35_col1, #T_f419c_row35_col2 {\n",
       "  text-align: left;\n",
       "}\n",
       "</style>\n",
       "<table id=\"T_f419c\">\n",
       "  <thead>\n",
       "    <tr>\n",
       "      <th class=\"blank level0\" >&nbsp;</th>\n",
       "      <th id=\"T_f419c_level0_col0\" class=\"col_heading level0 col0\" >Data Type</th>\n",
       "      <th id=\"T_f419c_level0_col1\" class=\"col_heading level0 col1\" >Null Values</th>\n",
       "      <th id=\"T_f419c_level0_col2\" class=\"col_heading level0 col2\" >Precentage of Nulls</th>\n",
       "    </tr>\n",
       "  </thead>\n",
       "  <tbody>\n",
       "    <tr>\n",
       "      <th id=\"T_f419c_level0_row0\" class=\"row_heading level0 row0\" >dur</th>\n",
       "      <td id=\"T_f419c_row0_col0\" class=\"data row0 col0\" >float64</td>\n",
       "      <td id=\"T_f419c_row0_col1\" class=\"data row0 col1\" >0</td>\n",
       "      <td id=\"T_f419c_row0_col2\" class=\"data row0 col2\" >0.0</td>\n",
       "    </tr>\n",
       "    <tr>\n",
       "      <th id=\"T_f419c_level0_row1\" class=\"row_heading level0 row1\" >proto</th>\n",
       "      <td id=\"T_f419c_row1_col0\" class=\"data row1 col0\" >object</td>\n",
       "      <td id=\"T_f419c_row1_col1\" class=\"data row1 col1\" >0</td>\n",
       "      <td id=\"T_f419c_row1_col2\" class=\"data row1 col2\" >0.0</td>\n",
       "    </tr>\n",
       "    <tr>\n",
       "      <th id=\"T_f419c_level0_row2\" class=\"row_heading level0 row2\" >service</th>\n",
       "      <td id=\"T_f419c_row2_col0\" class=\"data row2 col0\" >object</td>\n",
       "      <td id=\"T_f419c_row2_col1\" class=\"data row2 col1\" >0</td>\n",
       "      <td id=\"T_f419c_row2_col2\" class=\"data row2 col2\" >0.0</td>\n",
       "    </tr>\n",
       "    <tr>\n",
       "      <th id=\"T_f419c_level0_row3\" class=\"row_heading level0 row3\" >state</th>\n",
       "      <td id=\"T_f419c_row3_col0\" class=\"data row3 col0\" >object</td>\n",
       "      <td id=\"T_f419c_row3_col1\" class=\"data row3 col1\" >0</td>\n",
       "      <td id=\"T_f419c_row3_col2\" class=\"data row3 col2\" >0.0</td>\n",
       "    </tr>\n",
       "    <tr>\n",
       "      <th id=\"T_f419c_level0_row4\" class=\"row_heading level0 row4\" >spkts</th>\n",
       "      <td id=\"T_f419c_row4_col0\" class=\"data row4 col0\" >int64</td>\n",
       "      <td id=\"T_f419c_row4_col1\" class=\"data row4 col1\" >0</td>\n",
       "      <td id=\"T_f419c_row4_col2\" class=\"data row4 col2\" >0.0</td>\n",
       "    </tr>\n",
       "    <tr>\n",
       "      <th id=\"T_f419c_level0_row5\" class=\"row_heading level0 row5\" >dpkts</th>\n",
       "      <td id=\"T_f419c_row5_col0\" class=\"data row5 col0\" >int64</td>\n",
       "      <td id=\"T_f419c_row5_col1\" class=\"data row5 col1\" >0</td>\n",
       "      <td id=\"T_f419c_row5_col2\" class=\"data row5 col2\" >0.0</td>\n",
       "    </tr>\n",
       "    <tr>\n",
       "      <th id=\"T_f419c_level0_row6\" class=\"row_heading level0 row6\" >sbytes</th>\n",
       "      <td id=\"T_f419c_row6_col0\" class=\"data row6 col0\" >int64</td>\n",
       "      <td id=\"T_f419c_row6_col1\" class=\"data row6 col1\" >0</td>\n",
       "      <td id=\"T_f419c_row6_col2\" class=\"data row6 col2\" >0.0</td>\n",
       "    </tr>\n",
       "    <tr>\n",
       "      <th id=\"T_f419c_level0_row7\" class=\"row_heading level0 row7\" >dbytes</th>\n",
       "      <td id=\"T_f419c_row7_col0\" class=\"data row7 col0\" >int64</td>\n",
       "      <td id=\"T_f419c_row7_col1\" class=\"data row7 col1\" >0</td>\n",
       "      <td id=\"T_f419c_row7_col2\" class=\"data row7 col2\" >0.0</td>\n",
       "    </tr>\n",
       "    <tr>\n",
       "      <th id=\"T_f419c_level0_row8\" class=\"row_heading level0 row8\" >rate</th>\n",
       "      <td id=\"T_f419c_row8_col0\" class=\"data row8 col0\" >float64</td>\n",
       "      <td id=\"T_f419c_row8_col1\" class=\"data row8 col1\" >0</td>\n",
       "      <td id=\"T_f419c_row8_col2\" class=\"data row8 col2\" >0.0</td>\n",
       "    </tr>\n",
       "    <tr>\n",
       "      <th id=\"T_f419c_level0_row9\" class=\"row_heading level0 row9\" >sload</th>\n",
       "      <td id=\"T_f419c_row9_col0\" class=\"data row9 col0\" >float64</td>\n",
       "      <td id=\"T_f419c_row9_col1\" class=\"data row9 col1\" >0</td>\n",
       "      <td id=\"T_f419c_row9_col2\" class=\"data row9 col2\" >0.0</td>\n",
       "    </tr>\n",
       "    <tr>\n",
       "      <th id=\"T_f419c_level0_row10\" class=\"row_heading level0 row10\" >dload</th>\n",
       "      <td id=\"T_f419c_row10_col0\" class=\"data row10 col0\" >float64</td>\n",
       "      <td id=\"T_f419c_row10_col1\" class=\"data row10 col1\" >0</td>\n",
       "      <td id=\"T_f419c_row10_col2\" class=\"data row10 col2\" >0.0</td>\n",
       "    </tr>\n",
       "    <tr>\n",
       "      <th id=\"T_f419c_level0_row11\" class=\"row_heading level0 row11\" >sloss</th>\n",
       "      <td id=\"T_f419c_row11_col0\" class=\"data row11 col0\" >int64</td>\n",
       "      <td id=\"T_f419c_row11_col1\" class=\"data row11 col1\" >0</td>\n",
       "      <td id=\"T_f419c_row11_col2\" class=\"data row11 col2\" >0.0</td>\n",
       "    </tr>\n",
       "    <tr>\n",
       "      <th id=\"T_f419c_level0_row12\" class=\"row_heading level0 row12\" >dloss</th>\n",
       "      <td id=\"T_f419c_row12_col0\" class=\"data row12 col0\" >int64</td>\n",
       "      <td id=\"T_f419c_row12_col1\" class=\"data row12 col1\" >0</td>\n",
       "      <td id=\"T_f419c_row12_col2\" class=\"data row12 col2\" >0.0</td>\n",
       "    </tr>\n",
       "    <tr>\n",
       "      <th id=\"T_f419c_level0_row13\" class=\"row_heading level0 row13\" >sinpkt</th>\n",
       "      <td id=\"T_f419c_row13_col0\" class=\"data row13 col0\" >float64</td>\n",
       "      <td id=\"T_f419c_row13_col1\" class=\"data row13 col1\" >0</td>\n",
       "      <td id=\"T_f419c_row13_col2\" class=\"data row13 col2\" >0.0</td>\n",
       "    </tr>\n",
       "    <tr>\n",
       "      <th id=\"T_f419c_level0_row14\" class=\"row_heading level0 row14\" >dinpkt</th>\n",
       "      <td id=\"T_f419c_row14_col0\" class=\"data row14 col0\" >float64</td>\n",
       "      <td id=\"T_f419c_row14_col1\" class=\"data row14 col1\" >0</td>\n",
       "      <td id=\"T_f419c_row14_col2\" class=\"data row14 col2\" >0.0</td>\n",
       "    </tr>\n",
       "    <tr>\n",
       "      <th id=\"T_f419c_level0_row15\" class=\"row_heading level0 row15\" >sjit</th>\n",
       "      <td id=\"T_f419c_row15_col0\" class=\"data row15 col0\" >float64</td>\n",
       "      <td id=\"T_f419c_row15_col1\" class=\"data row15 col1\" >0</td>\n",
       "      <td id=\"T_f419c_row15_col2\" class=\"data row15 col2\" >0.0</td>\n",
       "    </tr>\n",
       "    <tr>\n",
       "      <th id=\"T_f419c_level0_row16\" class=\"row_heading level0 row16\" >djit</th>\n",
       "      <td id=\"T_f419c_row16_col0\" class=\"data row16 col0\" >float64</td>\n",
       "      <td id=\"T_f419c_row16_col1\" class=\"data row16 col1\" >0</td>\n",
       "      <td id=\"T_f419c_row16_col2\" class=\"data row16 col2\" >0.0</td>\n",
       "    </tr>\n",
       "    <tr>\n",
       "      <th id=\"T_f419c_level0_row17\" class=\"row_heading level0 row17\" >swin</th>\n",
       "      <td id=\"T_f419c_row17_col0\" class=\"data row17 col0\" >int64</td>\n",
       "      <td id=\"T_f419c_row17_col1\" class=\"data row17 col1\" >0</td>\n",
       "      <td id=\"T_f419c_row17_col2\" class=\"data row17 col2\" >0.0</td>\n",
       "    </tr>\n",
       "    <tr>\n",
       "      <th id=\"T_f419c_level0_row18\" class=\"row_heading level0 row18\" >stcpb</th>\n",
       "      <td id=\"T_f419c_row18_col0\" class=\"data row18 col0\" >int64</td>\n",
       "      <td id=\"T_f419c_row18_col1\" class=\"data row18 col1\" >0</td>\n",
       "      <td id=\"T_f419c_row18_col2\" class=\"data row18 col2\" >0.0</td>\n",
       "    </tr>\n",
       "    <tr>\n",
       "      <th id=\"T_f419c_level0_row19\" class=\"row_heading level0 row19\" >dtcpb</th>\n",
       "      <td id=\"T_f419c_row19_col0\" class=\"data row19 col0\" >int64</td>\n",
       "      <td id=\"T_f419c_row19_col1\" class=\"data row19 col1\" >0</td>\n",
       "      <td id=\"T_f419c_row19_col2\" class=\"data row19 col2\" >0.0</td>\n",
       "    </tr>\n",
       "    <tr>\n",
       "      <th id=\"T_f419c_level0_row20\" class=\"row_heading level0 row20\" >dwin</th>\n",
       "      <td id=\"T_f419c_row20_col0\" class=\"data row20 col0\" >int64</td>\n",
       "      <td id=\"T_f419c_row20_col1\" class=\"data row20 col1\" >0</td>\n",
       "      <td id=\"T_f419c_row20_col2\" class=\"data row20 col2\" >0.0</td>\n",
       "    </tr>\n",
       "    <tr>\n",
       "      <th id=\"T_f419c_level0_row21\" class=\"row_heading level0 row21\" >tcprtt</th>\n",
       "      <td id=\"T_f419c_row21_col0\" class=\"data row21 col0\" >float64</td>\n",
       "      <td id=\"T_f419c_row21_col1\" class=\"data row21 col1\" >0</td>\n",
       "      <td id=\"T_f419c_row21_col2\" class=\"data row21 col2\" >0.0</td>\n",
       "    </tr>\n",
       "    <tr>\n",
       "      <th id=\"T_f419c_level0_row22\" class=\"row_heading level0 row22\" >synack</th>\n",
       "      <td id=\"T_f419c_row22_col0\" class=\"data row22 col0\" >float64</td>\n",
       "      <td id=\"T_f419c_row22_col1\" class=\"data row22 col1\" >0</td>\n",
       "      <td id=\"T_f419c_row22_col2\" class=\"data row22 col2\" >0.0</td>\n",
       "    </tr>\n",
       "    <tr>\n",
       "      <th id=\"T_f419c_level0_row23\" class=\"row_heading level0 row23\" >ackdat</th>\n",
       "      <td id=\"T_f419c_row23_col0\" class=\"data row23 col0\" >float64</td>\n",
       "      <td id=\"T_f419c_row23_col1\" class=\"data row23 col1\" >0</td>\n",
       "      <td id=\"T_f419c_row23_col2\" class=\"data row23 col2\" >0.0</td>\n",
       "    </tr>\n",
       "    <tr>\n",
       "      <th id=\"T_f419c_level0_row24\" class=\"row_heading level0 row24\" >smean</th>\n",
       "      <td id=\"T_f419c_row24_col0\" class=\"data row24 col0\" >int64</td>\n",
       "      <td id=\"T_f419c_row24_col1\" class=\"data row24 col1\" >0</td>\n",
       "      <td id=\"T_f419c_row24_col2\" class=\"data row24 col2\" >0.0</td>\n",
       "    </tr>\n",
       "    <tr>\n",
       "      <th id=\"T_f419c_level0_row25\" class=\"row_heading level0 row25\" >dmean</th>\n",
       "      <td id=\"T_f419c_row25_col0\" class=\"data row25 col0\" >int64</td>\n",
       "      <td id=\"T_f419c_row25_col1\" class=\"data row25 col1\" >0</td>\n",
       "      <td id=\"T_f419c_row25_col2\" class=\"data row25 col2\" >0.0</td>\n",
       "    </tr>\n",
       "    <tr>\n",
       "      <th id=\"T_f419c_level0_row26\" class=\"row_heading level0 row26\" >trans_depth</th>\n",
       "      <td id=\"T_f419c_row26_col0\" class=\"data row26 col0\" >int64</td>\n",
       "      <td id=\"T_f419c_row26_col1\" class=\"data row26 col1\" >0</td>\n",
       "      <td id=\"T_f419c_row26_col2\" class=\"data row26 col2\" >0.0</td>\n",
       "    </tr>\n",
       "    <tr>\n",
       "      <th id=\"T_f419c_level0_row27\" class=\"row_heading level0 row27\" >response_body_len</th>\n",
       "      <td id=\"T_f419c_row27_col0\" class=\"data row27 col0\" >int64</td>\n",
       "      <td id=\"T_f419c_row27_col1\" class=\"data row27 col1\" >0</td>\n",
       "      <td id=\"T_f419c_row27_col2\" class=\"data row27 col2\" >0.0</td>\n",
       "    </tr>\n",
       "    <tr>\n",
       "      <th id=\"T_f419c_level0_row28\" class=\"row_heading level0 row28\" >ct_src_dport_ltm</th>\n",
       "      <td id=\"T_f419c_row28_col0\" class=\"data row28 col0\" >int64</td>\n",
       "      <td id=\"T_f419c_row28_col1\" class=\"data row28 col1\" >0</td>\n",
       "      <td id=\"T_f419c_row28_col2\" class=\"data row28 col2\" >0.0</td>\n",
       "    </tr>\n",
       "    <tr>\n",
       "      <th id=\"T_f419c_level0_row29\" class=\"row_heading level0 row29\" >ct_dst_sport_ltm</th>\n",
       "      <td id=\"T_f419c_row29_col0\" class=\"data row29 col0\" >int64</td>\n",
       "      <td id=\"T_f419c_row29_col1\" class=\"data row29 col1\" >0</td>\n",
       "      <td id=\"T_f419c_row29_col2\" class=\"data row29 col2\" >0.0</td>\n",
       "    </tr>\n",
       "    <tr>\n",
       "      <th id=\"T_f419c_level0_row30\" class=\"row_heading level0 row30\" >is_ftp_login</th>\n",
       "      <td id=\"T_f419c_row30_col0\" class=\"data row30 col0\" >int64</td>\n",
       "      <td id=\"T_f419c_row30_col1\" class=\"data row30 col1\" >0</td>\n",
       "      <td id=\"T_f419c_row30_col2\" class=\"data row30 col2\" >0.0</td>\n",
       "    </tr>\n",
       "    <tr>\n",
       "      <th id=\"T_f419c_level0_row31\" class=\"row_heading level0 row31\" >ct_ftp_cmd</th>\n",
       "      <td id=\"T_f419c_row31_col0\" class=\"data row31 col0\" >int64</td>\n",
       "      <td id=\"T_f419c_row31_col1\" class=\"data row31 col1\" >0</td>\n",
       "      <td id=\"T_f419c_row31_col2\" class=\"data row31 col2\" >0.0</td>\n",
       "    </tr>\n",
       "    <tr>\n",
       "      <th id=\"T_f419c_level0_row32\" class=\"row_heading level0 row32\" >ct_flw_http_mthd</th>\n",
       "      <td id=\"T_f419c_row32_col0\" class=\"data row32 col0\" >int64</td>\n",
       "      <td id=\"T_f419c_row32_col1\" class=\"data row32 col1\" >0</td>\n",
       "      <td id=\"T_f419c_row32_col2\" class=\"data row32 col2\" >0.0</td>\n",
       "    </tr>\n",
       "    <tr>\n",
       "      <th id=\"T_f419c_level0_row33\" class=\"row_heading level0 row33\" >is_sm_ips_ports</th>\n",
       "      <td id=\"T_f419c_row33_col0\" class=\"data row33 col0\" >int64</td>\n",
       "      <td id=\"T_f419c_row33_col1\" class=\"data row33 col1\" >0</td>\n",
       "      <td id=\"T_f419c_row33_col2\" class=\"data row33 col2\" >0.0</td>\n",
       "    </tr>\n",
       "    <tr>\n",
       "      <th id=\"T_f419c_level0_row34\" class=\"row_heading level0 row34\" >attack_cat</th>\n",
       "      <td id=\"T_f419c_row34_col0\" class=\"data row34 col0\" >object</td>\n",
       "      <td id=\"T_f419c_row34_col1\" class=\"data row34 col1\" >0</td>\n",
       "      <td id=\"T_f419c_row34_col2\" class=\"data row34 col2\" >0.0</td>\n",
       "    </tr>\n",
       "    <tr>\n",
       "      <th id=\"T_f419c_level0_row35\" class=\"row_heading level0 row35\" >label</th>\n",
       "      <td id=\"T_f419c_row35_col0\" class=\"data row35 col0\" >int64</td>\n",
       "      <td id=\"T_f419c_row35_col1\" class=\"data row35 col1\" >0</td>\n",
       "      <td id=\"T_f419c_row35_col2\" class=\"data row35 col2\" >0.0</td>\n",
       "    </tr>\n",
       "  </tbody>\n",
       "</table>\n"
      ],
      "text/plain": [
       "<pandas.io.formats.style.Styler at 0x7f052eab1600>"
      ]
     },
     "metadata": {},
     "output_type": "display_data"
    },
    {
     "data": {
      "text/markdown": [
       "### Duplicated Rows:"
      ],
      "text/plain": [
       "<IPython.core.display.Markdown object>"
      ]
     },
     "metadata": {},
     "output_type": "display_data"
    },
    {
     "data": {
      "text/html": [
       "<div>\n",
       "<style scoped>\n",
       "    .dataframe tbody tr th:only-of-type {\n",
       "        vertical-align: middle;\n",
       "    }\n",
       "\n",
       "    .dataframe tbody tr th {\n",
       "        vertical-align: top;\n",
       "    }\n",
       "\n",
       "    .dataframe thead th {\n",
       "        text-align: right;\n",
       "    }\n",
       "</style>\n",
       "<table border=\"1\" class=\"dataframe\">\n",
       "  <thead>\n",
       "    <tr style=\"text-align: right;\">\n",
       "      <th></th>\n",
       "      <th>Duplicated Rows Count</th>\n",
       "    </tr>\n",
       "  </thead>\n",
       "  <tbody>\n",
       "    <tr>\n",
       "      <th>Total</th>\n",
       "      <td>0</td>\n",
       "    </tr>\n",
       "  </tbody>\n",
       "</table>\n",
       "</div>"
      ],
      "text/plain": [
       "       Duplicated Rows Count\n",
       "Total                      0"
      ]
     },
     "metadata": {},
     "output_type": "display_data"
    }
   ],
   "source": [
    "test_info.dataframe_summary()"
   ]
  },
  {
   "cell_type": "code",
   "execution_count": 14,
   "metadata": {},
   "outputs": [
    {
     "data": {
      "text/markdown": [
       "### Categorical Columns Summary:"
      ],
      "text/plain": [
       "<IPython.core.display.Markdown object>"
      ]
     },
     "metadata": {},
     "output_type": "display_data"
    },
    {
     "data": {
      "text/html": [
       "<style type=\"text/css\">\n",
       "#T_ff3e8 th {\n",
       "  text-align: left;\n",
       "}\n",
       "#T_ff3e8_row0_col0, #T_ff3e8_row0_col1, #T_ff3e8_row0_col2, #T_ff3e8_row0_col3, #T_ff3e8_row1_col0, #T_ff3e8_row1_col1, #T_ff3e8_row1_col2, #T_ff3e8_row1_col3, #T_ff3e8_row2_col0, #T_ff3e8_row2_col1, #T_ff3e8_row2_col2, #T_ff3e8_row2_col3, #T_ff3e8_row3_col0, #T_ff3e8_row3_col1, #T_ff3e8_row3_col2, #T_ff3e8_row3_col3 {\n",
       "  text-align: left;\n",
       "}\n",
       "</style>\n",
       "<table id=\"T_ff3e8\">\n",
       "  <thead>\n",
       "    <tr>\n",
       "      <th class=\"blank level0\" >&nbsp;</th>\n",
       "      <th id=\"T_ff3e8_level0_col0\" class=\"col_heading level0 col0\" >Column</th>\n",
       "      <th id=\"T_ff3e8_level0_col1\" class=\"col_heading level0 col1\" >Unique Values Count</th>\n",
       "      <th id=\"T_ff3e8_level0_col2\" class=\"col_heading level0 col2\" >Top Value</th>\n",
       "      <th id=\"T_ff3e8_level0_col3\" class=\"col_heading level0 col3\" >Top Value Percentage</th>\n",
       "    </tr>\n",
       "  </thead>\n",
       "  <tbody>\n",
       "    <tr>\n",
       "      <th id=\"T_ff3e8_level0_row0\" class=\"row_heading level0 row0\" >0</th>\n",
       "      <td id=\"T_ff3e8_row0_col0\" class=\"data row0 col0\" >proto</td>\n",
       "      <td id=\"T_ff3e8_row0_col1\" class=\"data row0 col1\" >133</td>\n",
       "      <td id=\"T_ff3e8_row0_col2\" class=\"data row0 col2\" >tcp</td>\n",
       "      <td id=\"T_ff3e8_row0_col3\" class=\"data row0 col3\" >78.29%</td>\n",
       "    </tr>\n",
       "    <tr>\n",
       "      <th id=\"T_ff3e8_level0_row1\" class=\"row_heading level0 row1\" >1</th>\n",
       "      <td id=\"T_ff3e8_row1_col0\" class=\"data row1 col0\" >service</td>\n",
       "      <td id=\"T_ff3e8_row1_col1\" class=\"data row1 col1\" >13</td>\n",
       "      <td id=\"T_ff3e8_row1_col2\" class=\"data row1 col2\" >-</td>\n",
       "      <td id=\"T_ff3e8_row1_col3\" class=\"data row1 col3\" >59.87%</td>\n",
       "    </tr>\n",
       "    <tr>\n",
       "      <th id=\"T_ff3e8_level0_row2\" class=\"row_heading level0 row2\" >2</th>\n",
       "      <td id=\"T_ff3e8_row2_col0\" class=\"data row2 col0\" >state</td>\n",
       "      <td id=\"T_ff3e8_row2_col1\" class=\"data row2 col1\" >9</td>\n",
       "      <td id=\"T_ff3e8_row2_col2\" class=\"data row2 col2\" >FIN</td>\n",
       "      <td id=\"T_ff3e8_row2_col3\" class=\"data row2 col3\" >76.79%</td>\n",
       "    </tr>\n",
       "    <tr>\n",
       "      <th id=\"T_ff3e8_level0_row3\" class=\"row_heading level0 row3\" >3</th>\n",
       "      <td id=\"T_ff3e8_row3_col0\" class=\"data row3 col0\" >attack_cat</td>\n",
       "      <td id=\"T_ff3e8_row3_col1\" class=\"data row3 col1\" >10</td>\n",
       "      <td id=\"T_ff3e8_row3_col2\" class=\"data row3 col2\" >Normal</td>\n",
       "      <td id=\"T_ff3e8_row3_col3\" class=\"data row3 col3\" >50.50%</td>\n",
       "    </tr>\n",
       "  </tbody>\n",
       "</table>\n"
      ],
      "text/plain": [
       "<pandas.io.formats.style.Styler at 0x7f052cb54730>"
      ]
     },
     "metadata": {},
     "output_type": "display_data"
    },
    {
     "data": {
      "text/markdown": [
       "### Column: service"
      ],
      "text/plain": [
       "<IPython.core.display.Markdown object>"
      ]
     },
     "metadata": {},
     "output_type": "display_data"
    },
    {
     "data": {
      "text/markdown": [
       "#### Value Counts and Percentage Distribution:"
      ],
      "text/plain": [
       "<IPython.core.display.Markdown object>"
      ]
     },
     "metadata": {},
     "output_type": "display_data"
    },
    {
     "data": {
      "text/html": [
       "<style type=\"text/css\">\n",
       "#T_3fc30_row0_col0, #T_3fc30_row0_col1, #T_3fc30_row0_col2, #T_3fc30_row1_col0, #T_3fc30_row1_col1, #T_3fc30_row1_col2, #T_3fc30_row2_col0, #T_3fc30_row2_col1, #T_3fc30_row2_col2, #T_3fc30_row3_col0, #T_3fc30_row3_col1, #T_3fc30_row3_col2, #T_3fc30_row4_col0, #T_3fc30_row4_col1, #T_3fc30_row4_col2, #T_3fc30_row5_col0, #T_3fc30_row5_col1, #T_3fc30_row5_col2, #T_3fc30_row6_col0, #T_3fc30_row6_col1, #T_3fc30_row6_col2, #T_3fc30_row7_col0, #T_3fc30_row7_col1, #T_3fc30_row7_col2, #T_3fc30_row8_col0, #T_3fc30_row8_col1, #T_3fc30_row8_col2, #T_3fc30_row9_col0, #T_3fc30_row9_col1, #T_3fc30_row9_col2, #T_3fc30_row10_col0, #T_3fc30_row10_col1, #T_3fc30_row10_col2, #T_3fc30_row11_col0, #T_3fc30_row11_col1, #T_3fc30_row11_col2, #T_3fc30_row12_col0, #T_3fc30_row12_col1, #T_3fc30_row12_col2 {\n",
       "  text-align: left;\n",
       "}\n",
       "</style>\n",
       "<table id=\"T_3fc30\">\n",
       "  <thead>\n",
       "    <tr>\n",
       "      <th class=\"blank level0\" >&nbsp;</th>\n",
       "      <th id=\"T_3fc30_level0_col0\" class=\"col_heading level0 col0\" >Value</th>\n",
       "      <th id=\"T_3fc30_level0_col1\" class=\"col_heading level0 col1\" >Count</th>\n",
       "      <th id=\"T_3fc30_level0_col2\" class=\"col_heading level0 col2\" >Percentage</th>\n",
       "    </tr>\n",
       "  </thead>\n",
       "  <tbody>\n",
       "    <tr>\n",
       "      <th id=\"T_3fc30_level0_row0\" class=\"row_heading level0 row0\" >0</th>\n",
       "      <td id=\"T_3fc30_row0_col0\" class=\"data row0 col0\" >-</td>\n",
       "      <td id=\"T_3fc30_row0_col1\" class=\"data row0 col1\" >57971</td>\n",
       "      <td id=\"T_3fc30_row0_col2\" class=\"data row0 col2\" >59.873789</td>\n",
       "    </tr>\n",
       "    <tr>\n",
       "      <th id=\"T_3fc30_level0_row1\" class=\"row_heading level0 row1\" >1</th>\n",
       "      <td id=\"T_3fc30_row1_col0\" class=\"data row1 col0\" >http</td>\n",
       "      <td id=\"T_3fc30_row1_col1\" class=\"data row1 col1\" >18090</td>\n",
       "      <td id=\"T_3fc30_row1_col2\" class=\"data row1 col2\" >18.683770</td>\n",
       "    </tr>\n",
       "    <tr>\n",
       "      <th id=\"T_3fc30_level0_row2\" class=\"row_heading level0 row2\" >2</th>\n",
       "      <td id=\"T_3fc30_row2_col0\" class=\"data row2 col0\" >dns</td>\n",
       "      <td id=\"T_3fc30_row2_col1\" class=\"data row2 col1\" >7181</td>\n",
       "      <td id=\"T_3fc30_row2_col2\" class=\"data row2 col2\" >7.416703</td>\n",
       "    </tr>\n",
       "    <tr>\n",
       "      <th id=\"T_3fc30_level0_row3\" class=\"row_heading level0 row3\" >3</th>\n",
       "      <td id=\"T_3fc30_row3_col0\" class=\"data row3 col0\" >smtp</td>\n",
       "      <td id=\"T_3fc30_row3_col1\" class=\"data row3 col1\" >5023</td>\n",
       "      <td id=\"T_3fc30_row3_col2\" class=\"data row3 col2\" >5.187871</td>\n",
       "    </tr>\n",
       "    <tr>\n",
       "      <th id=\"T_3fc30_level0_row4\" class=\"row_heading level0 row4\" >4</th>\n",
       "      <td id=\"T_3fc30_row4_col0\" class=\"data row4 col0\" >ftp-data</td>\n",
       "      <td id=\"T_3fc30_row4_col1\" class=\"data row4 col1\" >3282</td>\n",
       "      <td id=\"T_3fc30_row4_col2\" class=\"data row4 col2\" >3.389725</td>\n",
       "    </tr>\n",
       "    <tr>\n",
       "      <th id=\"T_3fc30_level0_row5\" class=\"row_heading level0 row5\" >5</th>\n",
       "      <td id=\"T_3fc30_row5_col0\" class=\"data row5 col0\" >ftp</td>\n",
       "      <td id=\"T_3fc30_row5_col1\" class=\"data row5 col1\" >2687</td>\n",
       "      <td id=\"T_3fc30_row5_col2\" class=\"data row5 col2\" >2.775196</td>\n",
       "    </tr>\n",
       "    <tr>\n",
       "      <th id=\"T_3fc30_level0_row6\" class=\"row_heading level0 row6\" >6</th>\n",
       "      <td id=\"T_3fc30_row6_col0\" class=\"data row6 col0\" >ssh</td>\n",
       "      <td id=\"T_3fc30_row6_col1\" class=\"data row6 col1\" >1295</td>\n",
       "      <td id=\"T_3fc30_row6_col2\" class=\"data row6 col2\" >1.337506</td>\n",
       "    </tr>\n",
       "    <tr>\n",
       "      <th id=\"T_3fc30_level0_row7\" class=\"row_heading level0 row7\" >7</th>\n",
       "      <td id=\"T_3fc30_row7_col0\" class=\"data row7 col0\" >pop3</td>\n",
       "      <td id=\"T_3fc30_row7_col1\" class=\"data row7 col1\" >1104</td>\n",
       "      <td id=\"T_3fc30_row7_col2\" class=\"data row7 col2\" >1.140237</td>\n",
       "    </tr>\n",
       "    <tr>\n",
       "      <th id=\"T_3fc30_level0_row8\" class=\"row_heading level0 row8\" >8</th>\n",
       "      <td id=\"T_3fc30_row8_col0\" class=\"data row8 col0\" >ssl</td>\n",
       "      <td id=\"T_3fc30_row8_col1\" class=\"data row8 col1\" >56</td>\n",
       "      <td id=\"T_3fc30_row8_col2\" class=\"data row8 col2\" >0.057838</td>\n",
       "    </tr>\n",
       "    <tr>\n",
       "      <th id=\"T_3fc30_level0_row9\" class=\"row_heading level0 row9\" >9</th>\n",
       "      <td id=\"T_3fc30_row9_col0\" class=\"data row9 col0\" >dhcp</td>\n",
       "      <td id=\"T_3fc30_row9_col1\" class=\"data row9 col1\" >51</td>\n",
       "      <td id=\"T_3fc30_row9_col2\" class=\"data row9 col2\" >0.052674</td>\n",
       "    </tr>\n",
       "    <tr>\n",
       "      <th id=\"T_3fc30_level0_row10\" class=\"row_heading level0 row10\" >10</th>\n",
       "      <td id=\"T_3fc30_row10_col0\" class=\"data row10 col0\" >snmp</td>\n",
       "      <td id=\"T_3fc30_row10_col1\" class=\"data row10 col1\" >45</td>\n",
       "      <td id=\"T_3fc30_row10_col2\" class=\"data row10 col2\" >0.046477</td>\n",
       "    </tr>\n",
       "    <tr>\n",
       "      <th id=\"T_3fc30_level0_row11\" class=\"row_heading level0 row11\" >11</th>\n",
       "      <td id=\"T_3fc30_row11_col0\" class=\"data row11 col0\" >irc</td>\n",
       "      <td id=\"T_3fc30_row11_col1\" class=\"data row11 col1\" >25</td>\n",
       "      <td id=\"T_3fc30_row11_col2\" class=\"data row11 col2\" >0.025821</td>\n",
       "    </tr>\n",
       "    <tr>\n",
       "      <th id=\"T_3fc30_level0_row12\" class=\"row_heading level0 row12\" >12</th>\n",
       "      <td id=\"T_3fc30_row12_col0\" class=\"data row12 col0\" >radius</td>\n",
       "      <td id=\"T_3fc30_row12_col1\" class=\"data row12 col1\" >12</td>\n",
       "      <td id=\"T_3fc30_row12_col2\" class=\"data row12 col2\" >0.012394</td>\n",
       "    </tr>\n",
       "  </tbody>\n",
       "</table>\n"
      ],
      "text/plain": [
       "<pandas.io.formats.style.Styler at 0x7f052cabd6c0>"
      ]
     },
     "metadata": {},
     "output_type": "display_data"
    },
    {
     "data": {
      "text/markdown": [
       "---"
      ],
      "text/plain": [
       "<IPython.core.display.Markdown object>"
      ]
     },
     "metadata": {},
     "output_type": "display_data"
    },
    {
     "data": {
      "text/markdown": [
       "### Column: state"
      ],
      "text/plain": [
       "<IPython.core.display.Markdown object>"
      ]
     },
     "metadata": {},
     "output_type": "display_data"
    },
    {
     "data": {
      "text/markdown": [
       "#### Value Counts and Percentage Distribution:"
      ],
      "text/plain": [
       "<IPython.core.display.Markdown object>"
      ]
     },
     "metadata": {},
     "output_type": "display_data"
    },
    {
     "data": {
      "text/html": [
       "<style type=\"text/css\">\n",
       "#T_57dfe_row0_col0, #T_57dfe_row0_col1, #T_57dfe_row0_col2, #T_57dfe_row1_col0, #T_57dfe_row1_col1, #T_57dfe_row1_col2, #T_57dfe_row2_col0, #T_57dfe_row2_col1, #T_57dfe_row2_col2, #T_57dfe_row3_col0, #T_57dfe_row3_col1, #T_57dfe_row3_col2, #T_57dfe_row4_col0, #T_57dfe_row4_col1, #T_57dfe_row4_col2, #T_57dfe_row5_col0, #T_57dfe_row5_col1, #T_57dfe_row5_col2, #T_57dfe_row6_col0, #T_57dfe_row6_col1, #T_57dfe_row6_col2, #T_57dfe_row7_col0, #T_57dfe_row7_col1, #T_57dfe_row7_col2, #T_57dfe_row8_col0, #T_57dfe_row8_col1, #T_57dfe_row8_col2 {\n",
       "  text-align: left;\n",
       "}\n",
       "</style>\n",
       "<table id=\"T_57dfe\">\n",
       "  <thead>\n",
       "    <tr>\n",
       "      <th class=\"blank level0\" >&nbsp;</th>\n",
       "      <th id=\"T_57dfe_level0_col0\" class=\"col_heading level0 col0\" >Value</th>\n",
       "      <th id=\"T_57dfe_level0_col1\" class=\"col_heading level0 col1\" >Count</th>\n",
       "      <th id=\"T_57dfe_level0_col2\" class=\"col_heading level0 col2\" >Percentage</th>\n",
       "    </tr>\n",
       "  </thead>\n",
       "  <tbody>\n",
       "    <tr>\n",
       "      <th id=\"T_57dfe_level0_row0\" class=\"row_heading level0 row0\" >0</th>\n",
       "      <td id=\"T_57dfe_row0_col0\" class=\"data row0 col0\" >FIN</td>\n",
       "      <td id=\"T_57dfe_row0_col1\" class=\"data row0 col1\" >74345</td>\n",
       "      <td id=\"T_57dfe_row0_col2\" class=\"data row0 col2\" >76.785235</td>\n",
       "    </tr>\n",
       "    <tr>\n",
       "      <th id=\"T_57dfe_level0_row1\" class=\"row_heading level0 row1\" >1</th>\n",
       "      <td id=\"T_57dfe_row1_col0\" class=\"data row1 col0\" >CON</td>\n",
       "      <td id=\"T_57dfe_row1_col1\" class=\"data row1 col1\" >10976</td>\n",
       "      <td id=\"T_57dfe_row1_col2\" class=\"data row1 col2\" >11.336267</td>\n",
       "    </tr>\n",
       "    <tr>\n",
       "      <th id=\"T_57dfe_level0_row2\" class=\"row_heading level0 row2\" >2</th>\n",
       "      <td id=\"T_57dfe_row2_col0\" class=\"data row2 col0\" >INT</td>\n",
       "      <td id=\"T_57dfe_row2_col1\" class=\"data row2 col1\" >10812</td>\n",
       "      <td id=\"T_57dfe_row2_col2\" class=\"data row2 col2\" >11.166884</td>\n",
       "    </tr>\n",
       "    <tr>\n",
       "      <th id=\"T_57dfe_level0_row3\" class=\"row_heading level0 row3\" >3</th>\n",
       "      <td id=\"T_57dfe_row3_col0\" class=\"data row3 col0\" >REQ</td>\n",
       "      <td id=\"T_57dfe_row3_col1\" class=\"data row3 col1\" >594</td>\n",
       "      <td id=\"T_57dfe_row3_col2\" class=\"data row3 col2\" >0.613497</td>\n",
       "    </tr>\n",
       "    <tr>\n",
       "      <th id=\"T_57dfe_level0_row4\" class=\"row_heading level0 row4\" >4</th>\n",
       "      <td id=\"T_57dfe_row4_col0\" class=\"data row4 col0\" >RST</td>\n",
       "      <td id=\"T_57dfe_row4_col1\" class=\"data row4 col1\" >83</td>\n",
       "      <td id=\"T_57dfe_row4_col2\" class=\"data row4 col2\" >0.085724</td>\n",
       "    </tr>\n",
       "    <tr>\n",
       "      <th id=\"T_57dfe_level0_row5\" class=\"row_heading level0 row5\" >5</th>\n",
       "      <td id=\"T_57dfe_row5_col0\" class=\"data row5 col0\" >ECO</td>\n",
       "      <td id=\"T_57dfe_row5_col1\" class=\"data row5 col1\" >9</td>\n",
       "      <td id=\"T_57dfe_row5_col2\" class=\"data row5 col2\" >0.009295</td>\n",
       "    </tr>\n",
       "    <tr>\n",
       "      <th id=\"T_57dfe_level0_row6\" class=\"row_heading level0 row6\" >6</th>\n",
       "      <td id=\"T_57dfe_row6_col0\" class=\"data row6 col0\" >PAR</td>\n",
       "      <td id=\"T_57dfe_row6_col1\" class=\"data row6 col1\" >1</td>\n",
       "      <td id=\"T_57dfe_row6_col2\" class=\"data row6 col2\" >0.001033</td>\n",
       "    </tr>\n",
       "    <tr>\n",
       "      <th id=\"T_57dfe_level0_row7\" class=\"row_heading level0 row7\" >7</th>\n",
       "      <td id=\"T_57dfe_row7_col0\" class=\"data row7 col0\" >URN</td>\n",
       "      <td id=\"T_57dfe_row7_col1\" class=\"data row7 col1\" >1</td>\n",
       "      <td id=\"T_57dfe_row7_col2\" class=\"data row7 col2\" >0.001033</td>\n",
       "    </tr>\n",
       "    <tr>\n",
       "      <th id=\"T_57dfe_level0_row8\" class=\"row_heading level0 row8\" >8</th>\n",
       "      <td id=\"T_57dfe_row8_col0\" class=\"data row8 col0\" >no</td>\n",
       "      <td id=\"T_57dfe_row8_col1\" class=\"data row8 col1\" >1</td>\n",
       "      <td id=\"T_57dfe_row8_col2\" class=\"data row8 col2\" >0.001033</td>\n",
       "    </tr>\n",
       "  </tbody>\n",
       "</table>\n"
      ],
      "text/plain": [
       "<pandas.io.formats.style.Styler at 0x7f052cabee60>"
      ]
     },
     "metadata": {},
     "output_type": "display_data"
    },
    {
     "data": {
      "text/markdown": [
       "---"
      ],
      "text/plain": [
       "<IPython.core.display.Markdown object>"
      ]
     },
     "metadata": {},
     "output_type": "display_data"
    },
    {
     "data": {
      "text/markdown": [
       "### Column: attack_cat"
      ],
      "text/plain": [
       "<IPython.core.display.Markdown object>"
      ]
     },
     "metadata": {},
     "output_type": "display_data"
    },
    {
     "data": {
      "text/markdown": [
       "#### Value Counts and Percentage Distribution:"
      ],
      "text/plain": [
       "<IPython.core.display.Markdown object>"
      ]
     },
     "metadata": {},
     "output_type": "display_data"
    },
    {
     "data": {
      "text/html": [
       "<style type=\"text/css\">\n",
       "#T_28ed1_row0_col0, #T_28ed1_row0_col1, #T_28ed1_row0_col2, #T_28ed1_row1_col0, #T_28ed1_row1_col1, #T_28ed1_row1_col2, #T_28ed1_row2_col0, #T_28ed1_row2_col1, #T_28ed1_row2_col2, #T_28ed1_row3_col0, #T_28ed1_row3_col1, #T_28ed1_row3_col2, #T_28ed1_row4_col0, #T_28ed1_row4_col1, #T_28ed1_row4_col2, #T_28ed1_row5_col0, #T_28ed1_row5_col1, #T_28ed1_row5_col2, #T_28ed1_row6_col0, #T_28ed1_row6_col1, #T_28ed1_row6_col2, #T_28ed1_row7_col0, #T_28ed1_row7_col1, #T_28ed1_row7_col2, #T_28ed1_row8_col0, #T_28ed1_row8_col1, #T_28ed1_row8_col2, #T_28ed1_row9_col0, #T_28ed1_row9_col1, #T_28ed1_row9_col2 {\n",
       "  text-align: left;\n",
       "}\n",
       "</style>\n",
       "<table id=\"T_28ed1\">\n",
       "  <thead>\n",
       "    <tr>\n",
       "      <th class=\"blank level0\" >&nbsp;</th>\n",
       "      <th id=\"T_28ed1_level0_col0\" class=\"col_heading level0 col0\" >Value</th>\n",
       "      <th id=\"T_28ed1_level0_col1\" class=\"col_heading level0 col1\" >Count</th>\n",
       "      <th id=\"T_28ed1_level0_col2\" class=\"col_heading level0 col2\" >Percentage</th>\n",
       "    </tr>\n",
       "  </thead>\n",
       "  <tbody>\n",
       "    <tr>\n",
       "      <th id=\"T_28ed1_level0_row0\" class=\"row_heading level0 row0\" >0</th>\n",
       "      <td id=\"T_28ed1_row0_col0\" class=\"data row0 col0\" >Normal</td>\n",
       "      <td id=\"T_28ed1_row0_col1\" class=\"data row0 col1\" >48894</td>\n",
       "      <td id=\"T_28ed1_row0_col2\" class=\"data row0 col2\" >50.498854</td>\n",
       "    </tr>\n",
       "    <tr>\n",
       "      <th id=\"T_28ed1_level0_row1\" class=\"row_heading level0 row1\" >1</th>\n",
       "      <td id=\"T_28ed1_row1_col0\" class=\"data row1 col0\" >Exploits</td>\n",
       "      <td id=\"T_28ed1_row1_col1\" class=\"data row1 col1\" >19360</td>\n",
       "      <td id=\"T_28ed1_row1_col2\" class=\"data row1 col2\" >19.995456</td>\n",
       "    </tr>\n",
       "    <tr>\n",
       "      <th id=\"T_28ed1_level0_row2\" class=\"row_heading level0 row2\" >2</th>\n",
       "      <td id=\"T_28ed1_row2_col0\" class=\"data row2 col0\" >Fuzzers</td>\n",
       "      <td id=\"T_28ed1_row2_col1\" class=\"data row2 col1\" >14082</td>\n",
       "      <td id=\"T_28ed1_row2_col2\" class=\"data row2 col2\" >14.544215</td>\n",
       "    </tr>\n",
       "    <tr>\n",
       "      <th id=\"T_28ed1_level0_row3\" class=\"row_heading level0 row3\" >3</th>\n",
       "      <td id=\"T_28ed1_row3_col0\" class=\"data row3 col0\" >Reconnaissance</td>\n",
       "      <td id=\"T_28ed1_row3_col1\" class=\"data row3 col1\" >6000</td>\n",
       "      <td id=\"T_28ed1_row3_col2\" class=\"data row3 col2\" >6.196939</td>\n",
       "    </tr>\n",
       "    <tr>\n",
       "      <th id=\"T_28ed1_level0_row4\" class=\"row_heading level0 row4\" >4</th>\n",
       "      <td id=\"T_28ed1_row4_col0\" class=\"data row4 col0\" >DoS</td>\n",
       "      <td id=\"T_28ed1_row4_col1\" class=\"data row4 col1\" >3369</td>\n",
       "      <td id=\"T_28ed1_row4_col2\" class=\"data row4 col2\" >3.479581</td>\n",
       "    </tr>\n",
       "    <tr>\n",
       "      <th id=\"T_28ed1_level0_row5\" class=\"row_heading level0 row5\" >5</th>\n",
       "      <td id=\"T_28ed1_row5_col0\" class=\"data row5 col0\" >Generic</td>\n",
       "      <td id=\"T_28ed1_row5_col1\" class=\"data row5 col1\" >1800</td>\n",
       "      <td id=\"T_28ed1_row5_col2\" class=\"data row5 col2\" >1.859082</td>\n",
       "    </tr>\n",
       "    <tr>\n",
       "      <th id=\"T_28ed1_level0_row6\" class=\"row_heading level0 row6\" >6</th>\n",
       "      <td id=\"T_28ed1_row6_col0\" class=\"data row6 col0\" >Backdoor</td>\n",
       "      <td id=\"T_28ed1_row6_col1\" class=\"data row6 col1\" >1121</td>\n",
       "      <td id=\"T_28ed1_row6_col2\" class=\"data row6 col2\" >1.157795</td>\n",
       "    </tr>\n",
       "    <tr>\n",
       "      <th id=\"T_28ed1_level0_row7\" class=\"row_heading level0 row7\" >7</th>\n",
       "      <td id=\"T_28ed1_row7_col0\" class=\"data row7 col0\" >Analysis</td>\n",
       "      <td id=\"T_28ed1_row7_col1\" class=\"data row7 col1\" >1119</td>\n",
       "      <td id=\"T_28ed1_row7_col2\" class=\"data row7 col2\" >1.155729</td>\n",
       "    </tr>\n",
       "    <tr>\n",
       "      <th id=\"T_28ed1_level0_row8\" class=\"row_heading level0 row8\" >8</th>\n",
       "      <td id=\"T_28ed1_row8_col0\" class=\"data row8 col0\" >Shellcode</td>\n",
       "      <td id=\"T_28ed1_row8_col1\" class=\"data row8 col1\" >954</td>\n",
       "      <td id=\"T_28ed1_row8_col2\" class=\"data row8 col2\" >0.985313</td>\n",
       "    </tr>\n",
       "    <tr>\n",
       "      <th id=\"T_28ed1_level0_row9\" class=\"row_heading level0 row9\" >9</th>\n",
       "      <td id=\"T_28ed1_row9_col0\" class=\"data row9 col0\" >Worms</td>\n",
       "      <td id=\"T_28ed1_row9_col1\" class=\"data row9 col1\" >123</td>\n",
       "      <td id=\"T_28ed1_row9_col2\" class=\"data row9 col2\" >0.127037</td>\n",
       "    </tr>\n",
       "  </tbody>\n",
       "</table>\n"
      ],
      "text/plain": [
       "<pandas.io.formats.style.Styler at 0x7f052cabda50>"
      ]
     },
     "metadata": {},
     "output_type": "display_data"
    },
    {
     "data": {
      "text/markdown": [
       "---"
      ],
      "text/plain": [
       "<IPython.core.display.Markdown object>"
      ]
     },
     "metadata": {},
     "output_type": "display_data"
    }
   ],
   "source": [
    "train_info.categorical_summary()"
   ]
  },
  {
   "cell_type": "markdown",
   "metadata": {},
   "source": [
    "# Encoding the Data"
   ]
  },
  {
   "cell_type": "code",
   "execution_count": null,
   "metadata": {},
   "outputs": [],
   "source": [
    "from sklearn.preprocessing import LabelEncoder"
   ]
  }
 ],
 "metadata": {
  "kernelspec": {
   "display_name": "Python 3",
   "language": "python",
   "name": "python3"
  },
  "language_info": {
   "codemirror_mode": {
    "name": "ipython",
    "version": 3
   },
   "file_extension": ".py",
   "mimetype": "text/x-python",
   "name": "python",
   "nbconvert_exporter": "python",
   "pygments_lexer": "ipython3",
   "version": "3.10.12"
  }
 },
 "nbformat": 4,
 "nbformat_minor": 2
}
