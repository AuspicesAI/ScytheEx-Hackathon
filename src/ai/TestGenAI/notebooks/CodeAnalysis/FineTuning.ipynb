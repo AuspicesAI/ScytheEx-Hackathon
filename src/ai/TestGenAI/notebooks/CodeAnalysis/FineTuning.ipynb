{
 "cells": [
  {
   "cell_type": "code",
   "execution_count": null,
   "metadata": {},
   "outputs": [],
   "source": []
  },
  {
   "cell_type": "code",
   "execution_count": 11,
   "metadata": {},
   "outputs": [
    {
     "ename": "AttributeError",
     "evalue": "'MistralClient' object has no attribute 'files'",
     "output_type": "error",
     "traceback": [
      "\u001b[0;31m---------------------------------------------------------------------------\u001b[0m",
      "\u001b[0;31mAttributeError\u001b[0m                            Traceback (most recent call last)",
      "Cell \u001b[0;32mIn[11], line 35\u001b[0m\n\u001b[1;32m     31\u001b[0m     \u001b[38;5;28mprint\u001b[39m(\u001b[38;5;124mf\u001b[39m\u001b[38;5;124m\"\u001b[39m\u001b[38;5;124mFine-tuning job response: \u001b[39m\u001b[38;5;132;01m{\u001b[39;00mfine_tune_response\u001b[38;5;132;01m}\u001b[39;00m\u001b[38;5;124m\"\u001b[39m)\n\u001b[1;32m     34\u001b[0m \u001b[38;5;28;01mif\u001b[39;00m \u001b[38;5;18m__name__\u001b[39m \u001b[38;5;241m==\u001b[39m \u001b[38;5;124m\"\u001b[39m\u001b[38;5;124m__main__\u001b[39m\u001b[38;5;124m\"\u001b[39m:\n\u001b[0;32m---> 35\u001b[0m     \u001b[43mmain\u001b[49m\u001b[43m(\u001b[49m\u001b[43m)\u001b[49m\n",
      "Cell \u001b[0;32mIn[11], line 19\u001b[0m, in \u001b[0;36mmain\u001b[0;34m()\u001b[0m\n\u001b[1;32m     17\u001b[0m \u001b[38;5;66;03m# Step 1: Upload the training data\u001b[39;00m\n\u001b[1;32m     18\u001b[0m \u001b[38;5;28;01mwith\u001b[39;00m \u001b[38;5;28mopen\u001b[39m(json_file_path, \u001b[38;5;124m\"\u001b[39m\u001b[38;5;124mrb\u001b[39m\u001b[38;5;124m\"\u001b[39m) \u001b[38;5;28;01mas\u001b[39;00m file:\n\u001b[0;32m---> 19\u001b[0m     upload_response \u001b[38;5;241m=\u001b[39m \u001b[43mclient\u001b[49m\u001b[38;5;241;43m.\u001b[39;49m\u001b[43mfiles\u001b[49m\u001b[38;5;241m.\u001b[39mcreate(file\u001b[38;5;241m=\u001b[39mfile, purpose\u001b[38;5;241m=\u001b[39m\u001b[38;5;124m\"\u001b[39m\u001b[38;5;124mfine-tune\u001b[39m\u001b[38;5;124m\"\u001b[39m)\n\u001b[1;32m     20\u001b[0m \u001b[38;5;28mprint\u001b[39m(\u001b[38;5;124mf\u001b[39m\u001b[38;5;124m\"\u001b[39m\u001b[38;5;124mFile upload response: \u001b[39m\u001b[38;5;132;01m{\u001b[39;00mupload_response\u001b[38;5;132;01m}\u001b[39;00m\u001b[38;5;124m\"\u001b[39m)\n\u001b[1;32m     22\u001b[0m \u001b[38;5;66;03m# Extract file ID from the upload response (hypothetical)\u001b[39;00m\n\u001b[1;32m     23\u001b[0m \u001b[38;5;66;03m# The actual attribute to retrieve the file ID depends on the API's response structure\u001b[39;00m\n",
      "\u001b[0;31mAttributeError\u001b[0m: 'MistralClient' object has no attribute 'files'"
     ]
    }
   ],
   "source": [
    "from mistralai.client import MistralClient\n",
    "import os\n",
    "\n",
    "# Load the environment variables\n",
    "from dotenv import load_dotenv\n",
    "\n",
    "load_dotenv()\n",
    "\n",
    "\n",
    "def main():\n",
    "    api_key = os.environ[\"MISTRAL_API_KEY\"]\n",
    "    client = MistralClient(api_key=api_key)\n",
    "\n",
    "    # Set the file path\n",
    "    json_file_path = os.path.join(\"../../data\", \"CodeAnalysis.json\")\n",
    "\n",
    "    # Step 1: Upload the training data\n",
    "    with open(json_file_path, \"rb\") as file:\n",
    "        upload_response = client.files.create(file=file, purpose=\"fine-tune\")\n",
    "    print(f\"File upload response: {upload_response}\")\n",
    "\n",
    "    # Extract file ID from the upload response (hypothetical)\n",
    "    # The actual attribute to retrieve the file ID depends on the API's response structure\n",
    "    file_id = upload_response.get(\"id\")\n",
    "\n",
    "    # Step 2: Create a fine-tuning job\n",
    "    # Replace 'mistral-tiny' with the specific model identifier provided by Mistral API\n",
    "    fine_tune_response = client.fine_tuning.jobs.create(\n",
    "        training_file=file_id, model=\"mistral-tiny\"\n",
    "    )\n",
    "    print(f\"Fine-tuning job response: {fine_tune_response}\")\n",
    "\n",
    "\n",
    "if __name__ == \"__main__\":\n",
    "    main()"
   ]
  },
  {
   "cell_type": "code",
   "execution_count": 9,
   "metadata": {},
   "outputs": [
    {
     "data": {
      "text/plain": [
       "'/home/yousinator/AuspicesAI/zenith/TestGenAI/notebooks/CodeAnalysis'"
      ]
     },
     "execution_count": 9,
     "metadata": {},
     "output_type": "execute_result"
    }
   ],
   "source": [
    "os.getcwd()"
   ]
  },
  {
   "cell_type": "code",
   "execution_count": null,
   "metadata": {},
   "outputs": [],
   "source": []
  }
 ],
 "metadata": {
  "kernelspec": {
   "display_name": "zenith-CO9KQzrl-py3.10",
   "language": "python",
   "name": "python3"
  },
  "language_info": {
   "codemirror_mode": {
    "name": "ipython",
    "version": 3
   },
   "file_extension": ".py",
   "mimetype": "text/x-python",
   "name": "python",
   "nbconvert_exporter": "python",
   "pygments_lexer": "ipython3",
   "version": "3.10.12"
  }
 },
 "nbformat": 4,
 "nbformat_minor": 2
}
