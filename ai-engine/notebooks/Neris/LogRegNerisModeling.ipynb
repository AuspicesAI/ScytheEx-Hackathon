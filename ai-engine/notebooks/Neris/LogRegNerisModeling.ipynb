{
 "cells": [
  {
   "cell_type": "markdown",
   "metadata": {},
   "source": [
    "# Description\n",
    "Probable Name: Neris\n",
    "\n",
    "MD5: bf08e6b02e00d2bc6dd493e93e69872f\n",
    "\n",
    "SHA1: 5c2ba68d78471ff02adcdab12b2f82db8efe2104\n",
    "\n",
    "SHA256: 527da5fd4e501765cdd1bccb2f7c5ac76c0b22dfaf7c24e914df4e1cb8029d71\n",
    "\n",
    "Password of zip file: infected\n",
    "\n",
    "Duration: 3 hours, 51 minutes and 0 seconds\n",
    "\n",
    "VirusTotal\n",
    "\n",
    "HybridAnalysis\n",
    "\n",
    "RobotHash"
   ]
  },
  {
   "cell_type": "code",
   "execution_count": 15,
   "metadata": {},
   "outputs": [
    {
     "data": {
      "text/html": [
       "<div>\n",
       "<style scoped>\n",
       "    .dataframe tbody tr th:only-of-type {\n",
       "        vertical-align: middle;\n",
       "    }\n",
       "\n",
       "    .dataframe tbody tr th {\n",
       "        vertical-align: top;\n",
       "    }\n",
       "\n",
       "    .dataframe thead th {\n",
       "        text-align: right;\n",
       "    }\n",
       "</style>\n",
       "<table border=\"1\" class=\"dataframe\">\n",
       "  <thead>\n",
       "    <tr style=\"text-align: right;\">\n",
       "      <th></th>\n",
       "      <th>index</th>\n",
       "      <th>Duration</th>\n",
       "      <th>Protocol</th>\n",
       "      <th>Flags</th>\n",
       "      <th>Packets</th>\n",
       "      <th>Bytes</th>\n",
       "      <th>Label</th>\n",
       "      <th>Source Port</th>\n",
       "      <th>Destination Port</th>\n",
       "      <th>Bytes per Packet</th>\n",
       "      <th>Packets per Second</th>\n",
       "      <th>Bytes per Second</th>\n",
       "      <th>Is Encrypted Traffic</th>\n",
       "      <th>Common Port Usage</th>\n",
       "    </tr>\n",
       "  </thead>\n",
       "  <tbody>\n",
       "    <tr>\n",
       "      <th>0</th>\n",
       "      <td>0</td>\n",
       "      <td>0.281</td>\n",
       "      <td>TCP</td>\n",
       "      <td>FSPA_</td>\n",
       "      <td>5.0</td>\n",
       "      <td>533.0</td>\n",
       "      <td>LEGITIMATE</td>\n",
       "      <td>2596</td>\n",
       "      <td>80</td>\n",
       "      <td>106.600000</td>\n",
       "      <td>17.793594</td>\n",
       "      <td>1896.797153</td>\n",
       "      <td>0</td>\n",
       "      <td>1</td>\n",
       "    </tr>\n",
       "    <tr>\n",
       "      <th>1</th>\n",
       "      <td>1</td>\n",
       "      <td>0.069</td>\n",
       "      <td>TCP</td>\n",
       "      <td>_FSA</td>\n",
       "      <td>2.0</td>\n",
       "      <td>122.0</td>\n",
       "      <td>Botnet</td>\n",
       "      <td>1842</td>\n",
       "      <td>80</td>\n",
       "      <td>61.000000</td>\n",
       "      <td>28.985507</td>\n",
       "      <td>1768.115942</td>\n",
       "      <td>0</td>\n",
       "      <td>1</td>\n",
       "    </tr>\n",
       "    <tr>\n",
       "      <th>2</th>\n",
       "      <td>2</td>\n",
       "      <td>0.125</td>\n",
       "      <td>TCP</td>\n",
       "      <td>FSA_</td>\n",
       "      <td>4.0</td>\n",
       "      <td>242.0</td>\n",
       "      <td>Botnet</td>\n",
       "      <td>1040</td>\n",
       "      <td>80</td>\n",
       "      <td>60.500000</td>\n",
       "      <td>32.000000</td>\n",
       "      <td>1936.000000</td>\n",
       "      <td>0</td>\n",
       "      <td>1</td>\n",
       "    </tr>\n",
       "    <tr>\n",
       "      <th>3</th>\n",
       "      <td>3</td>\n",
       "      <td>3.605</td>\n",
       "      <td>TCP</td>\n",
       "      <td>SPA_</td>\n",
       "      <td>11.0</td>\n",
       "      <td>6596.0</td>\n",
       "      <td>LEGITIMATE</td>\n",
       "      <td>50369</td>\n",
       "      <td>80</td>\n",
       "      <td>599.636364</td>\n",
       "      <td>3.051318</td>\n",
       "      <td>1829.680999</td>\n",
       "      <td>0</td>\n",
       "      <td>1</td>\n",
       "    </tr>\n",
       "    <tr>\n",
       "      <th>4</th>\n",
       "      <td>4</td>\n",
       "      <td>0.001</td>\n",
       "      <td>TCP</td>\n",
       "      <td>S_</td>\n",
       "      <td>1.0</td>\n",
       "      <td>62.0</td>\n",
       "      <td>Botnet</td>\n",
       "      <td>4192</td>\n",
       "      <td>179</td>\n",
       "      <td>62.000000</td>\n",
       "      <td>1000.000000</td>\n",
       "      <td>62000.000000</td>\n",
       "      <td>0</td>\n",
       "      <td>0</td>\n",
       "    </tr>\n",
       "  </tbody>\n",
       "</table>\n",
       "</div>"
      ],
      "text/plain": [
       "   index  Duration Protocol  Flags  Packets   Bytes       Label  Source Port  \\\n",
       "0      0     0.281      TCP  FSPA_      5.0   533.0  LEGITIMATE         2596   \n",
       "1      1     0.069      TCP   _FSA      2.0   122.0      Botnet         1842   \n",
       "2      2     0.125      TCP   FSA_      4.0   242.0      Botnet         1040   \n",
       "3      3     3.605      TCP   SPA_     11.0  6596.0  LEGITIMATE        50369   \n",
       "4      4     0.001      TCP     S_      1.0    62.0      Botnet         4192   \n",
       "\n",
       "   Destination Port  Bytes per Packet  Packets per Second  Bytes per Second  \\\n",
       "0                80        106.600000           17.793594       1896.797153   \n",
       "1                80         61.000000           28.985507       1768.115942   \n",
       "2                80         60.500000           32.000000       1936.000000   \n",
       "3                80        599.636364            3.051318       1829.680999   \n",
       "4               179         62.000000         1000.000000      62000.000000   \n",
       "\n",
       "   Is Encrypted Traffic  Common Port Usage  \n",
       "0                     0                  1  \n",
       "1                     0                  1  \n",
       "2                     0                  1  \n",
       "3                     0                  1  \n",
       "4                     0                  0  "
      ]
     },
     "execution_count": 15,
     "metadata": {},
     "output_type": "execute_result"
    }
   ],
   "source": [
    "import pandas as pd\n",
    "\n",
    "# Define the path to your file\n",
    "file_path = \"../../data/Neris/Modeling_Neris.csv\"\n",
    "\n",
    "# Load the data\n",
    "# Since your data appears to be tab-separated, we use sep='\\s+' which handles multiple spaces\n",
    "df = pd.read_csv(\n",
    "    file_path)\n",
    "df.drop([\"Unnamed: 0\",\"Flows\"], axis=1, inplace=True)\n",
    "df.head()"
   ]
  },
  {
   "cell_type": "markdown",
   "metadata": {},
   "source": [
    "# Modeling"
   ]
  },
  {
   "cell_type": "markdown",
   "metadata": {},
   "source": [
    "## Data Prep"
   ]
  },
  {
   "cell_type": "code",
   "execution_count": 16,
   "metadata": {},
   "outputs": [],
   "source": [
    "df[\"Bytes\"] = df[\"Bytes\"].astype(\"float64\")\n",
    "df[\"Duration\"] = df[\"Duration\"].astype(\"float64\")\n",
    "df[\"Packets\"] = df[\"Packets\"].astype(\"float64\")\n",
    "df = df.reset_index()\n",
    "\n",
    "df[\"Label\"] = df[\"Label\"].replace(\n",
    "    {\"LEGITIMATE\": \"Normal\", \"Botnet\": \"Neris\"}\n",
    ")"
   ]
  },
  {
   "cell_type": "code",
   "execution_count": 17,
   "metadata": {},
   "outputs": [],
   "source": [
    "def save_as_pickle(path, variable):\n",
    "    with open(path, \"wb\") as file:\n",
    "        pickle.dump(variable, file)"
   ]
  },
  {
   "cell_type": "code",
   "execution_count": 18,
   "metadata": {},
   "outputs": [],
   "source": [
    "import pickle\n",
    "from sklearn.preprocessing import LabelEncoder\n",
    "\n",
    "encoder = LabelEncoder()\n",
    "\n",
    "columns_to_encode = [\"Protocol\", \"Flags\", \"Label\"]\n",
    "\n",
    "for column in columns_to_encode:\n",
    "    # Fit label encoder and return encoded labels\n",
    "    path = \"../../variables/Neris/\" + column + \"_Encoder.pkl\"\n",
    "    df[column] = encoder.fit_transform(df[column])\n",
    "    save_as_pickle(path, encoder)"
   ]
  },
  {
   "cell_type": "code",
   "execution_count": 19,
   "metadata": {},
   "outputs": [],
   "source": [
    "from sklearn.preprocessing import StandardScaler\n",
    "# Separate the 'Status' column\n",
    "label_column = df[\"Label\"]\n",
    "dropped_df = df.drop(\"Label\", axis=1)\n",
    "\n",
    "# Initialize and apply MinMaxScaler to the dropped_df\n",
    "scaler = StandardScaler()\n",
    "scaled_dropped_df = scaler.fit_transform(dropped_df.to_numpy())\n",
    "\n",
    "# Create a DataFrame from the scaled dropped_df\n",
    "df = pd.DataFrame(scaled_dropped_df, columns=dropped_df.columns)\n",
    "\n",
    "# Reattach the 'Status' column\n",
    "df[\"Label\"] = label_column\n",
    "\n",
    "save_as_pickle(r\"../../variables/Neris/scaler.pkl\", scaler)"
   ]
  },
  {
   "cell_type": "markdown",
   "metadata": {},
   "source": [
    "## Creating Model"
   ]
  },
  {
   "cell_type": "code",
   "execution_count": 20,
   "metadata": {},
   "outputs": [
    {
     "name": "stderr",
     "output_type": "stream",
     "text": [
      "Evaluating model: 100%|██████████| 30/30 [01:31<00:00,  3.06s/it]\n"
     ]
    }
   ],
   "source": [
    "from sklearn.linear_model import LogisticRegression\n",
    "import prisma_ml as prisma\n",
    "\n",
    "max_iter = 5000\n",
    "logreg_model = LogisticRegression(max_iter=max_iter)\n",
    "\n",
    "X = df.drop(\"Label\", axis=1)\n",
    "y = df[\"Label\"]\n",
    "\n",
    "test_size = 0.3\n",
    "iterations = 30\n",
    "\n",
    "logreg_normal = prisma.MachineLearning()\n",
    "(\n",
    "    logreg_normal_metrics,\n",
    "    avg_logreg_normal_metrics,\n",
    "    logreg_normal_model,\n",
    ") = logreg_normal.evaluate_model(X, y, test_size, iterations, logreg_model)"
   ]
  },
  {
   "cell_type": "code",
   "execution_count": 21,
   "metadata": {},
   "outputs": [
    {
     "data": {
      "text/plain": [
       "{'Accuracy': 0.842, 'Precision': 0.842, 'Recall': 0.842, 'F1 Score': 0.841}"
      ]
     },
     "execution_count": 21,
     "metadata": {},
     "output_type": "execute_result"
    }
   ],
   "source": [
    "avg_logreg_normal_metrics"
   ]
  },
  {
   "cell_type": "code",
   "execution_count": 22,
   "metadata": {},
   "outputs": [],
   "source": [
    "save_as_pickle(r\"../../models/NerisLogreg.pkl\", logreg_normal_model)"
   ]
  },
  {
   "cell_type": "code",
   "execution_count": null,
   "metadata": {},
   "outputs": [],
   "source": []
  }
 ],
 "metadata": {
  "kernelspec": {
   "display_name": "Python (ScytheEx-ai)",
   "language": "python",
   "name": "scytheex-ai"
  },
  "language_info": {
   "codemirror_mode": {
    "name": "ipython",
    "version": 3
   },
   "file_extension": ".py",
   "mimetype": "text/x-python",
   "name": "python",
   "nbconvert_exporter": "python",
   "pygments_lexer": "ipython3",
   "version": "3.10.12"
  }
 },
 "nbformat": 4,
 "nbformat_minor": 2
}
